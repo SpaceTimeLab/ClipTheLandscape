{
 "cells": [
  {
   "cell_type": "markdown",
   "id": "c79fac70-789d-4962-9c59-8fcd19b5177c",
   "metadata": {},
   "source": [
    "# Predict Geographic Context from Landscape Photos\n",
    "\n",
    "Kaggle URL: https://www.kaggle.com/competitions/predict-geographic-context-from-landscape-photos/overview\n",
    "\n",
    "Some training images were missing from the original 14Gb archive (as per Kaggle description). Download missing ones, then add missing ones into our training folder:\n",
    "\n",
    "```\n",
    "rsync -a extra_images/ train_images/\n",
    "```"
   ]
  },
  {
   "cell_type": "code",
   "execution_count": 32,
   "id": "12d6a14d-90de-4c2b-a412-c4c3f4d336f4",
   "metadata": {},
   "outputs": [],
   "source": [
    "import pandas as pd\n",
    "import numpy as np\n",
    "import os\n",
    "import gc # garbage collection\n",
    "import pickle\n",
    "\n",
    "import torch\n",
    "from torch import nn\n",
    "from torch.utils.data import DataLoader, Dataset, Subset, TensorDataset, random_split\n",
    "from torchvision import transforms\n",
    "from torch.optim import AdamW\n",
    "from torch.optim.lr_scheduler import CosineAnnealingLR\n",
    "\n",
    "import clip\n",
    "\n",
    "from PIL import Image\n",
    "from pathlib import Path\n",
    "from tqdm.notebook import tqdm  # notebook-aware bar"
   ]
  },
  {
   "cell_type": "code",
   "execution_count": 33,
   "id": "dc64ab31-2fa7-40fc-9222-5fc6c01cc538",
   "metadata": {},
   "outputs": [],
   "source": [
    "num_labels = 49\n",
    "device = 'cpu'"
   ]
  },
  {
   "cell_type": "markdown",
   "id": "6ade4d8d-aaa9-4e55-839f-b6f5511c72b0",
   "metadata": {},
   "source": [
    "# Pre-compute embeddings on all training images once 🏹"
   ]
  },
  {
   "cell_type": "code",
   "execution_count": 35,
   "id": "64dabf2b-4ba0-42fe-9aea-0fee96004da5",
   "metadata": {},
   "outputs": [],
   "source": [
    "# Combine original + missing training data (img IDs + labels) into a single CSV\n",
    "train = pd.concat([\n",
    "    pd.read_csv('train.csv'),\n",
    "    pd.read_csv('train-extra.csv')\n",
    "]).drop(columns=['tags'])\n",
    "\n",
    "metadata_cols = ['gridimage_id', 'title', 'grid_reference']\n",
    "metadata = pd.concat([\n",
    "    pd.read_csv('metadata.csv', on_bad_lines='skip', usecols=metadata_cols),\n",
    "    pd.read_csv('metadata-extra.csv', on_bad_lines='skip', encoding='latin1', usecols=metadata_cols)\n",
    "])\n",
    "\n",
    "combined = (\n",
    "    train.merge(\n",
    "        metadata, on='gridimage_id', how='inner'\n",
    "    ).assign(\n",
    "        gridimage_id=lambda df_: df_.gridimage_id.astype(int)\n",
    "    )\n",
    "    .set_index('gridimage_id')\n",
    ")\n",
    "\n",
    "tags = train.columns[1:num_labels+1]\n",
    "assert len(tags) == num_labels and all([ tag.startswith('tag') for tag in tags ])\n",
    "image_ids = combined.index\n",
    "ys = combined.loc[:, tags]\n",
    "titles = combined.title.fillna('')"
   ]
  },
  {
   "cell_type": "code",
   "execution_count": 38,
   "id": "b2024c76",
   "metadata": {},
   "outputs": [
    {
     "data": {
      "text/plain": [
       "gridimage_id\n",
       "6602                             Heathrow Airport\n",
       "7058       The west summit of Beinn na h-Eaglaise\n",
       "7567                   Summit of Meall an Lundain\n",
       "8281                    Summit of Beinn na Gucaig\n",
       "9017                      Duns Castle and Hen Poo\n",
       "                            ...                  \n",
       "7562941                Exton : Xmoor-Rox Festival\n",
       "7562943                Exton : Xmoor-Rox Festival\n",
       "7562944                Exton : Xmoor-Rox Festival\n",
       "7563159                           Kineil terminal\n",
       "7563429                Shell garage - Trumpington\n",
       "Name: title, Length: 657235, dtype: object"
      ]
     },
     "execution_count": 38,
     "metadata": {},
     "output_type": "execute_result"
    }
   ],
   "source": [
    "titles"
   ]
  },
  {
   "cell_type": "code",
   "execution_count": 39,
   "id": "095c8391-97c9-4ad0-9caa-7823ae9fa7c8",
   "metadata": {},
   "outputs": [
    {
     "data": {
      "text/plain": [
       "1     42.547643\n",
       "2     35.661369\n",
       "3     16.130303\n",
       "4      4.393406\n",
       "5      1.044071\n",
       "6      0.197342\n",
       "7      0.019628\n",
       "8      0.004108\n",
       "9      0.001065\n",
       "10     0.000456\n",
       "12     0.000152\n",
       "20     0.000152\n",
       "19     0.000152\n",
       "13     0.000152\n",
       "Name: count, dtype: float64"
      ]
     },
     "execution_count": 39,
     "metadata": {},
     "output_type": "execute_result"
    }
   ],
   "source": [
    "# How many tags per image do we have?\n",
    "pd.Series(ys.sum(axis=1)).value_counts() / ys.shape[0] * 100"
   ]
  },
  {
   "cell_type": "code",
   "execution_count": 12,
   "id": "80618cf3-75fc-4475-80ed-130c2c010c38",
   "metadata": {},
   "outputs": [
    {
     "data": {
      "text/plain": [
       "['RN50',\n",
       " 'RN101',\n",
       " 'RN50x4',\n",
       " 'RN50x16',\n",
       " 'RN50x64',\n",
       " 'ViT-B/32',\n",
       " 'ViT-B/16',\n",
       " 'ViT-L/14',\n",
       " 'ViT-L/14@336px']"
      ]
     },
     "execution_count": 12,
     "metadata": {},
     "output_type": "execute_result"
    }
   ],
   "source": [
    "clip.available_models()"
   ]
  },
  {
   "cell_type": "code",
   "execution_count": 13,
   "id": "b6813d0d-6448-4ae5-9824-600f140e50d0",
   "metadata": {},
   "outputs": [],
   "source": [
    "model, preprocess = clip.load(\"ViT-B/32\", device=device)"
   ]
  },
  {
   "cell_type": "code",
   "execution_count": null,
   "id": "078ec19f-5cb5-4721-a209-b4e6adedf2d4",
   "metadata": {},
   "outputs": [],
   "source": [
    "%%time\n",
    "\n",
    "batch_size = 10_000\n",
    "batch_idx = 4\n",
    "\n",
    "exist_ids = []\n",
    "img_embeds = []\n",
    "txt_embeds = []\n",
    "\n",
    "for img_id in tqdm(image_ids[batch_size*batch_idx:]):\n",
    "    \n",
    "    path = Path('train_images') / f'{img_id//10000:05d}' / f'{img_id}.jpg'\n",
    "    \n",
    "    if path.exists():\n",
    "\n",
    "        # Image encoder\n",
    "        img = preprocess(Image.open(path)).unsqueeze(0).to(device)\n",
    "        with torch.no_grad():\n",
    "            feat_img = model.encode_image(img)\n",
    "        feat_img = feat_img.squeeze(0).cpu().detach()\n",
    "\n",
    "        # Text encoder\n",
    "        txt_tokens = clip.tokenize([titles.loc[img_id]]).to(device)\n",
    "        with torch.no_grad():\n",
    "            feat_txt = model.encode_text(txt_tokens)\n",
    "        feat_txt = feat_txt.squeeze(0).cpu().detach()\n",
    "        \n",
    "        exist_ids.append(img_id)\n",
    "        img_embeds.append(feat_img)\n",
    "        txt_embeds.append(feat_txt)\n",
    "\n",
    "        if len(exist_ids) >= batch_size:\n",
    "            # Write batch to file\n",
    "            with open(f'interim/clip-train-embeds-{batch_idx}.pkl', 'wb') as f:\n",
    "                pickle.dump(\n",
    "                    [(id, img, txt) for id, img, txt in zip(exist_ids, img_embeds, txt_embeds)],\n",
    "                    f\n",
    "                )\n",
    "            exist_ids.clear(); img_embeds.clear(); txt_embeds.clear()\n",
    "            batch_idx += 1\n",
    "\n",
    "# Write remaining\n",
    "with open(f'interim/clip-train-embeds-{batch_idx}.pkl', 'wb') as f:\n",
    "    pickle.dump(\n",
    "        [(id, img, txt) for id, img, txt in zip(exist_ids, img_embeds, txt_embeds)],\n",
    "        f\n",
    "    )"
   ]
  },
  {
   "cell_type": "markdown",
   "id": "6f181666-5206-451f-a874-48a958fa6d3d",
   "metadata": {},
   "source": [
    "## Split training data into train/val sets and use for all experiments"
   ]
  },
  {
   "cell_type": "code",
   "execution_count": null,
   "id": "a1c0a167-0fb2-4ea7-98a4-216fbb85b36c",
   "metadata": {},
   "outputs": [],
   "source": [
    "train_tuples = []\n",
    "\n",
    "for i in range(65):\n",
    "    with open(f'interim/clip-train-embeds-{i}.pkl', 'rb') as f:\n",
    "        train_tuples.extend(pickle.load(f))\n",
    "\n",
    "labels = np.array([ ys.loc[id].values for id, _, _ in train_tuples ])\n",
    "img_ids = np.array([ id for id, _, _ in train_tuples ])"
   ]
  },
  {
   "cell_type": "code",
   "execution_count": null,
   "id": "1b603ea1-5357-4de2-a602-3c1a2b3a71b6",
   "metadata": {},
   "outputs": [],
   "source": [
    "# Let's hide all examples with >5 labels from training \n",
    "train_mask = labels.sum(axis=1) <= 5"
   ]
  },
  {
   "cell_type": "code",
   "execution_count": null,
   "id": "01960b5d-6eb7-4276-8a5b-145e7a4ba718",
   "metadata": {},
   "outputs": [],
   "source": [
    "ds = TensorDataset(\n",
    "    torch.tensor(img_ids)[train_mask], # labels\n",
    "    torch.stack([ img_emb for _, img_emb, _ in train_tuples])[train_mask], # image embeddings\n",
    "    torch.stack([ text_emb for _, _, text_emb in train_tuples])[train_mask], # text embeddings\n",
    "    torch.tensor(labels)[train_mask] # labels\n",
    ")"
   ]
  },
  {
   "cell_type": "code",
   "execution_count": null,
   "id": "4db2cfac-9125-4ec5-b4d4-fc4ed664e441",
   "metadata": {},
   "outputs": [],
   "source": [
    "# Let's split into train & validation subsets, 80/20\n",
    "n = len(ds)\n",
    "n_train = int(n*0.8)\n",
    "train_ds, val_ds = random_split(ds, [n_train, n-n_train])"
   ]
  },
  {
   "cell_type": "code",
   "execution_count": null,
   "id": "4d6f64dd-1eba-43df-b9cd-b0e2fc4e02d7",
   "metadata": {},
   "outputs": [],
   "source": [
    "torch.save(ds, 'splits/dataset.pt')\n",
    "torch.save(train_ds.indices, 'splits/train_idx.pt')\n",
    "torch.save(val_ds.indices, 'splits/val_idx.pt')"
   ]
  },
  {
   "cell_type": "markdown",
   "id": "a04d1842-cb79-4d1a-bc17-a4f4ea5487a6",
   "metadata": {},
   "source": [
    "# Next, let's train our classifier head 🐼 clip-fused-mlp-head (img_f+text_f)"
   ]
  },
  {
   "cell_type": "code",
   "execution_count": 3,
   "id": "96b45dc3-e53d-4ebc-baae-3042a6ed10fc",
   "metadata": {},
   "outputs": [],
   "source": [
    "# For consistent shuffling between experiments\n",
    "seed = 42\n",
    "torch.manual_seed(seed)\n",
    "g = torch.Generator().manual_seed(seed)"
   ]
  },
  {
   "cell_type": "code",
   "execution_count": 4,
   "id": "d7999b21-0cde-4244-9441-4ebd016a85dd",
   "metadata": {},
   "outputs": [],
   "source": [
    "ds = torch.load('splits/dataset.pt',weights_only=False)\n",
    "train_idx = torch.load('splits/train_idx.pt',weights_only=False)\n",
    "val_idx = torch.load('splits/val_idx.pt',weights_only=False)\n",
    "\n",
    "train_dl = DataLoader(\n",
    "    Subset(ds, train_idx),\n",
    "    batch_size=4096, shuffle=True,  num_workers=0, generator=g # consistent shuffling\n",
    ")\n",
    "\n",
    "val_dl = DataLoader(\n",
    "    Subset(ds, val_idx),\n",
    "    batch_size=4096, shuffle=False, num_workers=0\n",
    ")"
   ]
  },
  {
   "cell_type": "code",
   "execution_count": null,
   "id": "5f6096c7",
   "metadata": {},
   "outputs": [
    {
     "name": "stdout",
     "output_type": "stream",
     "text": [
      "Type of ds: <class 'torch.utils.data.dataset.TensorDataset'>\n",
      "Number of examples: 647099\n",
      "Example 0: (tensor(6602), tensor([-4.9930e-01,  5.0587e-01,  6.3751e-02,  2.1809e-01,  4.4446e-01,\n",
      "        -3.6563e-02,  4.5404e-01,  4.8573e-01,  2.1682e-01,  4.5784e-01,\n",
      "         2.5066e-01,  4.0943e-01, -1.8771e-01,  2.3321e-01,  1.7103e-01,\n",
      "        -7.7696e-02,  8.6848e-01, -9.1467e-02, -3.9854e-01,  2.4306e-03,\n",
      "         9.0217e-01,  3.7415e-01,  1.0841e-01,  5.1648e-01, -1.3490e-01,\n",
      "        -3.4662e-02,  1.0658e-02,  5.4267e-01, -2.8364e-01,  2.7496e-01,\n",
      "        -4.8197e-01,  3.0376e-01, -6.6980e-02,  2.1223e-01, -1.5282e-03,\n",
      "        -3.3305e-01,  2.8579e-01, -2.2527e-01,  6.3176e-03,  1.6078e+00,\n",
      "         5.3660e-01,  2.2036e-01,  3.2504e-01,  3.0035e-01,  1.1094e-01,\n",
      "        -1.7855e+00,  1.8963e-01,  2.7708e-01, -4.4347e-01,  1.4707e-01,\n",
      "        -4.2665e-01, -3.4884e-01, -2.1593e-02,  6.0070e-01,  1.4210e-01,\n",
      "         1.7227e-01, -5.1940e-01,  4.7870e-02,  1.7162e-01, -7.9715e-02,\n",
      "         9.5207e-01, -1.7925e-01,  4.2316e-01, -6.7248e-02,  8.1452e-02,\n",
      "         3.8928e-02,  3.5430e-01, -1.0561e-01, -1.7265e-01, -3.9910e-01,\n",
      "        -5.3872e-01, -4.8194e-02,  5.8894e-01,  3.6078e-01, -1.4969e-02,\n",
      "        -1.3653e-01, -5.7736e-02, -6.7420e-02,  2.8390e-02, -1.6865e-01,\n",
      "         5.2772e-01, -8.9656e-02, -1.3977e-01,  4.2634e-01, -3.8819e-01,\n",
      "         3.9507e-01, -7.5819e-01, -5.8738e-02,  4.0534e-01, -4.5229e-01,\n",
      "        -2.9548e-01,  6.9320e-01, -6.8581e+00,  1.2791e+00,  2.9517e-02,\n",
      "        -4.8623e-02,  2.9106e-01,  4.1913e-01,  8.4615e-01, -6.9975e-01,\n",
      "         6.9740e-02, -1.8037e-01,  4.4059e-01, -4.0381e-01,  3.5585e-01,\n",
      "         1.8215e-01, -1.6281e+00, -4.4795e-02,  3.8271e-01,  4.2281e-01,\n",
      "         3.4233e-01, -3.9832e-01,  1.5411e-01, -3.2070e-01, -2.3867e-01,\n",
      "         2.3569e-01, -4.2694e-02, -2.4132e-01,  2.0711e-01, -7.8735e-03,\n",
      "        -2.2969e-01, -6.9749e-02,  1.7944e-01,  1.2204e-01,  2.7858e-02,\n",
      "        -2.9666e-01, -1.1201e-01, -5.1473e-01, -1.6191e-01, -5.6980e-02,\n",
      "         2.1006e-01,  3.3635e-01, -2.6495e-01,  8.0342e-01,  1.2590e-01,\n",
      "         2.9897e-01,  1.4927e-01,  2.0795e-01,  1.4645e-01, -2.5567e-01,\n",
      "        -1.2418e-01,  1.5671e-01, -2.5940e-01, -8.4252e-02,  5.2033e-03,\n",
      "         5.3934e-01,  4.1881e-01, -1.5873e-01,  2.2544e-02, -7.0771e-02,\n",
      "         2.5126e-03, -2.9075e-01,  3.5778e-01,  5.6717e-02,  2.9152e-01,\n",
      "         3.5353e-01, -2.1074e-01,  8.3969e-02,  1.0412e-02,  6.8919e-02,\n",
      "        -1.9377e-01, -4.1231e-01, -2.3027e-01, -2.5450e-01, -2.7599e-02,\n",
      "         2.6051e-01,  6.7087e-01,  2.2027e-01, -8.1902e-02,  4.5816e-01,\n",
      "         1.1237e-01, -6.9666e-02,  4.3342e-01,  4.7218e-01,  3.0200e-01,\n",
      "        -1.7274e-01,  4.0808e-01,  6.5678e-01,  7.8559e-02, -3.9483e-01,\n",
      "        -3.1125e-01, -6.1866e-01, -1.4010e-01,  4.5586e-01, -5.3246e-02,\n",
      "         1.9242e-01, -3.5435e-01, -4.1807e-01, -3.8916e-02,  7.7420e-02,\n",
      "         4.2473e-01,  3.8839e-01, -3.9227e-01,  1.1103e-01, -9.9479e-02,\n",
      "        -2.4112e-01, -5.1142e-01,  1.6021e-01, -5.5749e-01, -4.9589e-02,\n",
      "         2.5150e-01,  2.6735e-01,  3.3943e-01, -3.4551e-01, -3.0934e-03,\n",
      "        -1.1253e-01,  7.3852e-02, -1.4778e-01,  1.8721e-01, -3.6605e-01,\n",
      "        -2.0068e-02,  2.1712e-02,  8.3207e-02, -1.1340e-01, -2.6306e-01,\n",
      "         2.6977e-01,  4.3759e-01,  5.0680e-01,  1.8213e-02,  5.7074e-02,\n",
      "         3.8137e-01, -6.2884e-01, -1.7791e-01,  3.8675e-02, -3.3762e-01,\n",
      "        -1.2580e-01, -7.3159e-03,  2.0405e-01, -3.6916e-01,  1.7708e-02,\n",
      "        -1.7740e-01,  1.2926e-01,  7.2219e-02,  1.9974e-02,  2.3843e-01,\n",
      "        -1.5192e-01, -3.1556e-02,  2.1079e-01, -9.3739e-02, -4.1171e-02,\n",
      "         5.9074e-02, -2.5249e-01, -4.4696e-01, -1.7649e-01, -2.1749e-01,\n",
      "         2.2556e-01, -4.6606e-02, -7.0523e-02, -2.3908e-01,  5.6030e-01,\n",
      "        -3.4372e-01, -1.2288e-01,  3.7573e-01, -2.9746e-01, -9.9155e-02,\n",
      "        -2.5069e-01,  9.0533e-02,  2.5820e-01,  2.0470e+00, -4.9332e-01,\n",
      "         4.6660e-01, -1.8159e-01,  3.4971e-01,  2.3818e+00,  1.2844e-01,\n",
      "         5.9809e-01,  1.1733e-01, -2.3483e-01,  3.4609e-01,  1.9834e-02,\n",
      "         1.1439e-01, -5.6798e-02,  2.2491e-01, -5.7198e-02, -4.1881e-01,\n",
      "         1.8271e-01,  4.9714e-01, -4.9691e-01, -3.4329e-02, -3.8666e-01,\n",
      "        -2.0786e-01,  2.6647e-01,  1.4497e-01,  3.0620e-01, -5.7156e-01,\n",
      "         2.8732e-02,  1.0038e-02, -6.5472e-03,  2.0238e-02,  5.2508e-02,\n",
      "        -2.6582e-01, -3.5796e-01, -1.1345e-02,  2.1136e-01,  3.5697e-01,\n",
      "         4.3066e-01, -5.4135e-02, -1.2281e-01, -2.9705e-01,  3.4938e-02,\n",
      "        -3.5560e-01,  1.6425e-01, -3.6922e-01,  8.9743e-04, -4.0627e-01,\n",
      "         5.4129e-02, -3.7970e-01,  2.4355e-01,  1.7566e-01,  3.2570e-01,\n",
      "         7.7243e-01, -2.7085e-01,  8.0122e-01,  3.9267e-01,  8.4306e-02,\n",
      "         2.6668e-01,  1.6434e-01,  5.2176e-02,  6.0575e-02,  1.0342e+00,\n",
      "         3.4731e-01,  1.3029e-01, -3.0936e-01,  1.3805e-01, -7.7192e-01,\n",
      "        -1.9444e-01, -7.0864e-01, -5.8241e-01,  2.9902e-01, -3.7436e-02,\n",
      "        -3.8802e-01,  1.4769e-01, -2.1541e-01, -1.0051e-01,  2.7377e-01,\n",
      "         2.2831e-03,  7.9699e-02, -2.9269e-01, -1.1512e-01,  9.0137e-02,\n",
      "        -4.0264e-01,  5.6938e-01,  3.2912e-01,  1.9675e-01, -2.5215e-01,\n",
      "        -1.8906e-01,  4.8943e-01, -2.0418e-01, -2.8080e-01,  2.7426e-01,\n",
      "        -3.0920e-01, -1.6192e-01,  5.9595e-02,  1.6260e-01, -6.8037e-01,\n",
      "         3.2904e-01, -1.7063e-01,  9.7413e-01,  5.2459e-02, -2.0912e-01,\n",
      "        -4.3034e-01,  2.4322e-01,  1.7847e-01, -9.3262e-01, -9.2440e-01,\n",
      "         1.9944e-01, -4.2851e-01, -1.2333e+00,  1.3999e-01, -2.7220e-01,\n",
      "        -1.9776e-01, -1.4013e-01,  2.7170e-02, -2.4858e-02,  3.0971e-01,\n",
      "         3.4952e-01, -3.5825e-01, -1.6860e-01,  1.3385e-01,  1.2852e-01,\n",
      "         1.1941e-01, -9.7008e-03, -4.9608e-01, -1.0681e-01, -6.1199e-01,\n",
      "        -1.5225e-01,  5.1366e-02, -2.3485e-02, -2.8347e-01,  2.8911e-02,\n",
      "        -3.8355e-01, -1.1099e-01, -3.5831e-01, -3.5070e-01,  1.4398e-01,\n",
      "         1.7405e-01,  8.3554e-02,  6.2157e-01, -4.2625e-03,  3.1015e-02,\n",
      "        -3.9444e-01,  4.0497e-01,  7.3224e-02,  3.9146e-01, -1.7009e-01,\n",
      "        -3.2092e-01,  1.2378e-01, -3.2356e-01, -2.1329e-01,  8.1593e-02,\n",
      "         3.2824e-01,  6.7229e-02, -2.1565e-01,  3.7451e-01, -4.1555e-01,\n",
      "        -3.2423e-01,  8.8254e-02, -1.4191e-01, -8.8438e-02, -1.1638e-01,\n",
      "        -5.9253e-02,  2.5185e-01,  1.6559e-01, -2.4103e-01,  3.7150e-01,\n",
      "         3.6301e-01, -1.9409e-01,  3.8085e-02, -2.2492e-01,  3.8560e-01,\n",
      "        -4.2865e-01,  2.0824e-01, -1.4492e+00,  9.8114e-02, -2.7987e-01,\n",
      "        -1.8736e-01, -4.8864e-02,  3.3389e-01, -1.4535e-01,  2.6442e-01,\n",
      "         2.8902e-01, -3.2996e-01,  2.9562e-01, -4.6497e-01,  2.6687e-01,\n",
      "         4.0913e-01, -2.3152e-01,  4.7935e-02, -3.2608e-01,  1.2100e-01,\n",
      "        -7.8286e-01, -4.9683e-01, -2.0818e-01,  3.3043e-01, -4.4258e-02,\n",
      "         5.6447e-02,  4.8760e-01, -4.7836e-01,  1.6284e-01,  6.0954e-01,\n",
      "         1.7598e-01, -4.3862e-01,  5.4940e-01,  1.0686e-01, -3.0630e-02,\n",
      "        -1.0363e-01,  8.4630e-02, -2.2992e-01,  3.2421e-01,  2.7777e-01,\n",
      "         3.2275e-01,  2.2497e-01, -3.2536e-02, -5.0744e-02, -7.9285e-01,\n",
      "        -3.1027e-01,  6.8149e-01, -1.4798e-01,  2.4016e-01, -1.8531e-01,\n",
      "        -1.9323e-02, -5.0515e-01,  1.3677e-01, -4.3894e-01,  7.1838e-03,\n",
      "         5.5849e-01,  3.8990e-01,  3.4848e-01, -3.1746e-01, -5.2955e-01,\n",
      "         1.2515e-01, -8.7715e-02, -3.2983e-01, -4.5801e-01,  4.6173e-02,\n",
      "        -3.4736e-01,  1.9994e-01,  6.3692e-02, -3.8959e-01,  4.2431e-01,\n",
      "         1.3120e-01, -6.9487e-02,  1.3016e-01,  3.2487e-01, -4.9494e-01,\n",
      "        -7.8279e-03, -3.9952e-02, -7.2769e-02,  2.0339e-01, -3.3147e-01,\n",
      "        -4.0727e-02, -1.7809e-01]), tensor([-2.6270e-01,  3.2513e-01, -5.1792e-03,  1.2136e-01, -1.2270e-01,\n",
      "        -9.3406e-02,  2.1748e-01, -7.0056e-01,  1.8512e-01, -1.2433e-01,\n",
      "         6.2806e-01,  3.5926e-01,  8.6312e-02,  1.6015e-01,  9.2626e-02,\n",
      "         2.3407e-01,  7.3493e-01,  2.0194e-01, -1.7175e-01, -1.3157e-01,\n",
      "         1.5286e-01,  2.6225e-01,  1.3062e-01, -1.7973e-01, -5.1177e-01,\n",
      "        -4.3190e-01, -2.0908e-01, -3.6882e-01, -1.7999e-01,  5.5815e-01,\n",
      "         1.7783e-01,  1.2258e-01,  2.6348e-01,  1.6330e-01, -7.8237e-01,\n",
      "        -2.4940e-02,  4.0102e-01,  5.1604e-03, -2.2088e-01,  1.5387e-01,\n",
      "         4.3255e-01, -2.1714e-01,  2.9938e-01, -3.3131e-01,  4.8028e-01,\n",
      "         4.9743e-02,  1.0154e-01,  4.7190e-02, -2.0707e-01, -4.8392e-02,\n",
      "        -5.8908e-02, -1.7407e-01,  1.1942e-01,  1.9549e-02, -2.3128e-01,\n",
      "         2.8395e-01, -3.3996e-01,  1.2902e-01,  1.5858e-02, -2.5785e-01,\n",
      "         5.4249e-01,  7.5192e-02,  5.7117e-01, -1.5113e-01, -3.9665e-02,\n",
      "         4.7687e-01, -4.8209e-02, -4.5848e-01, -1.4889e-01, -1.4665e-01,\n",
      "        -1.9456e-01, -5.1798e-01,  1.7567e-01,  1.9014e-01,  3.7596e-01,\n",
      "        -2.8863e-01, -3.2706e-01,  4.6173e-01, -1.9302e-02, -1.1058e-01,\n",
      "         2.1621e-01,  6.1947e-03, -1.8161e-01,  3.1235e-01,  1.0212e-01,\n",
      "         1.8570e-01,  7.6216e-02,  1.5217e-01, -7.1657e-02, -1.3375e-01,\n",
      "        -1.8025e-01,  7.9059e-02, -1.3226e+00,  3.8439e-01, -3.5580e-01,\n",
      "         8.7687e-03, -6.8003e-02,  6.1713e-01,  1.7209e-01, -2.2096e-01,\n",
      "         4.1571e-02,  7.3206e-02,  4.6867e-01, -2.0818e-02, -7.2500e-01,\n",
      "         1.1002e-01,  8.8175e-02,  1.3433e-01,  9.2841e-02,  3.5122e-02,\n",
      "         2.5066e-01,  3.8948e-01,  1.0562e-01, -1.4605e-01,  1.8405e-01,\n",
      "         1.0931e-01, -2.5417e-01, -1.1418e-01,  8.9806e-02,  3.3969e-01,\n",
      "         7.0231e-02, -9.1953e-02,  2.7255e-01, -2.7717e-01,  4.0918e-01,\n",
      "         5.6637e-02,  1.0189e-01, -3.9296e-01, -3.4102e-02,  1.8419e-01,\n",
      "        -1.7730e-02,  2.5519e-01, -2.6858e-01,  5.1726e+00, -2.3211e-01,\n",
      "         9.1801e-02, -3.6325e-01,  6.3917e-02,  1.9713e-01, -2.1712e-01,\n",
      "         1.1752e-01,  5.3183e-01, -4.1976e-01,  2.0105e-01, -9.1604e-03,\n",
      "         1.0997e-01,  2.2967e-01, -2.0436e-01, -2.8191e-01, -3.0046e-01,\n",
      "        -9.2108e-02, -2.8908e-01,  1.5821e-01,  3.8900e-01, -1.1854e-01,\n",
      "         2.5911e-01, -4.5607e-01, -9.6434e-02,  9.6670e-02,  1.6439e-02,\n",
      "         1.6274e-01,  7.5498e-02, -2.4746e-01, -1.3688e-02, -3.2089e-01,\n",
      "         1.9119e-01,  1.4492e-01, -5.5286e-02, -9.7083e-02, -7.7615e-02,\n",
      "        -2.5373e-01,  1.7537e-01, -2.1922e-02,  2.0719e-02,  2.6126e-01,\n",
      "        -1.6610e-01, -1.1963e-01,  1.4775e-01,  1.5314e-01,  2.0979e-02,\n",
      "        -9.7292e-02, -2.9866e-01, -1.5111e-01, -1.9480e-02,  9.4292e-02,\n",
      "         8.3654e-02,  2.2706e-02, -1.2895e-01, -4.1523e-01, -3.2660e-02,\n",
      "        -1.0075e-01,  3.7943e-01, -3.2785e-01,  1.2604e-01,  5.1413e-01,\n",
      "        -3.2604e-02, -1.7864e-01,  3.9637e-01, -3.1068e-01, -1.7358e-02,\n",
      "         2.3021e-01,  2.6064e-01, -5.1368e-02, -5.1319e-01,  1.8634e-01,\n",
      "        -2.8028e-01, -1.4401e-01, -7.5809e-02, -1.7437e-01,  3.7407e-02,\n",
      "         3.1378e-01,  1.0101e-01, -3.9056e-01,  1.2503e-01, -2.2437e-01,\n",
      "         2.1282e-01,  1.9767e-01,  1.8259e-01, -3.7022e-01, -2.7461e-01,\n",
      "        -2.1024e-01, -6.3440e-01, -2.4614e-01, -2.2909e-01,  3.2992e-01,\n",
      "        -3.5271e-02, -1.4051e-01,  2.4064e-02, -3.6368e-01, -2.3474e-01,\n",
      "        -3.2735e-03, -3.5493e-01,  3.9817e-01, -2.8863e-01,  8.5389e-02,\n",
      "         3.5640e-01,  4.5464e-01,  5.6350e-01, -1.8348e-02,  2.1745e-01,\n",
      "        -9.0216e-02, -2.6857e-01, -2.8841e-01, -5.4792e-02, -2.3942e-01,\n",
      "        -7.2139e-03, -4.1302e-01, -7.4902e-01, -1.2092e-01,  1.0105e-01,\n",
      "        -1.1176e-02, -3.8054e-01,  1.1124e-01, -2.0057e-01, -2.8093e-01,\n",
      "         3.6574e-01,  3.3467e-01,  4.5455e-01, -6.3914e-02, -1.4222e-01,\n",
      "         6.6490e-02, -2.9542e-01, -4.9085e-02,  5.2872e-01, -8.5635e-02,\n",
      "         1.3042e-01,  3.3238e-02, -2.7345e-02,  3.4416e-01,  5.9052e-02,\n",
      "        -1.4500e-01,  8.3140e-02,  1.0093e-01, -1.7506e-01,  3.4539e-02,\n",
      "        -5.9294e-02,  3.8124e-01, -2.7847e-01,  3.6384e-02,  7.9728e-02,\n",
      "         2.3149e-02, -1.2303e-01,  4.9972e-01,  2.0574e-01, -2.7544e-01,\n",
      "         5.7318e-03,  1.0477e-01, -7.8292e-02, -8.2160e-02,  2.4534e-02,\n",
      "        -4.2763e-02, -2.0988e-01,  2.3866e-01,  2.8874e-01, -1.6511e-01,\n",
      "         4.2463e-01, -1.8398e-01, -2.8950e-01, -1.7720e-01,  2.9159e-01,\n",
      "        -3.6258e-01, -4.3989e-01,  8.3656e-03, -1.3826e-02, -4.0927e-01,\n",
      "         7.4987e-01,  9.1487e-02,  1.9679e-01, -8.9172e-02, -2.1901e-02,\n",
      "        -2.7469e-01, -4.0411e-01,  5.1736e+00, -1.3839e-02,  7.3756e-02,\n",
      "         2.0704e-01, -2.6771e-02, -3.7351e-02,  6.9794e-04,  3.7591e-01,\n",
      "         2.5958e-01,  1.9703e-01, -1.8291e-01,  1.8651e-01, -2.1182e-01,\n",
      "        -1.1800e-01, -4.3334e-01, -2.4775e-01,  3.2739e-01, -1.5072e+00,\n",
      "        -1.1509e-01,  1.9054e-01,  2.8882e-01, -1.9561e-01,  2.5393e-01,\n",
      "        -1.5583e-01,  1.5430e-01, -3.9409e-01, -2.3514e-01, -1.7599e-01,\n",
      "         3.5050e-01,  4.2928e-01,  1.4812e-01, -3.8523e-01,  3.4524e-02,\n",
      "        -1.4342e-01,  1.9624e-01, -1.8150e-01,  1.0562e-03, -2.6293e-01,\n",
      "        -4.9384e-01, -1.5634e-01,  2.4992e-02,  3.1107e-01, -3.5098e-01,\n",
      "        -2.8621e-01,  2.4990e-01,  4.2925e-01, -1.8057e-02, -8.3334e-04,\n",
      "         2.1070e-01,  5.2858e-02,  3.0898e-01,  1.1034e-01,  1.9980e-01,\n",
      "        -1.8780e-01, -4.4867e-01, -1.0436e-01,  4.5342e-01, -5.4757e-02,\n",
      "        -1.3407e-01, -2.8646e-02, -5.1524e-01, -5.1400e-02,  1.4996e-01,\n",
      "         1.3658e-01,  2.6154e-01, -1.5258e-01, -5.5502e-01,  1.4954e-01,\n",
      "         1.2030e-03, -6.1967e-02, -6.8634e-01, -4.5529e-01,  4.1067e-02,\n",
      "         1.5229e-01, -2.2728e-01, -1.4807e-01, -1.2315e-01,  2.2154e-01,\n",
      "         4.7896e-03,  1.9355e-01,  1.0945e-01,  1.7116e-01,  1.9072e-01,\n",
      "         1.3189e-01, -2.0126e-02,  3.4786e-02, -4.0488e-02,  3.6283e-01,\n",
      "        -1.0489e-01,  2.2075e-01,  5.6852e-02, -2.7194e-01, -4.2308e-01,\n",
      "         1.6258e-01, -2.2408e-01,  2.6188e-02,  8.2293e-02,  1.8928e-01,\n",
      "         3.3518e-01, -1.0420e-01,  8.4501e-02,  2.7233e-01,  1.5916e-01,\n",
      "        -1.1788e-01,  9.9021e-02, -3.8573e-01,  3.5329e-01,  4.2231e-02,\n",
      "         2.7268e-01, -2.8206e-01, -3.4885e-02, -3.6936e-01, -2.9440e-01,\n",
      "         2.8146e-01,  6.6362e-04, -2.9858e-02,  1.7543e-01,  1.6152e-01,\n",
      "         1.9477e-02, -3.1085e-02, -3.0980e-01,  3.6119e-02, -3.5149e-01,\n",
      "        -1.0141e-01, -6.3910e-01, -9.9643e-03, -3.3721e-02, -7.6793e-02,\n",
      "         3.5647e-01, -2.5130e-01,  9.3574e-02, -5.5210e-02, -3.3054e-02,\n",
      "        -2.3290e-01,  1.1778e-01, -6.5092e-02,  2.9224e-02, -2.3274e-01,\n",
      "        -5.0218e-02,  7.6481e-02, -1.2829e-02,  1.6260e-01, -2.2182e-01,\n",
      "        -4.1911e-01,  4.1183e-01, -1.7851e-01,  4.6876e-02,  4.0768e-01,\n",
      "         1.4463e-01, -5.8576e-02,  1.3026e-01,  2.5044e-01, -1.2616e-01,\n",
      "        -2.5529e-01, -1.1191e-01,  1.1744e-01, -1.3762e-01, -6.3627e-03,\n",
      "        -5.4576e-03,  1.3827e-01, -4.2126e-02, -2.6771e-02, -3.5666e-02,\n",
      "         2.1153e-01,  4.1428e-01, -2.7476e-01, -3.4800e-01,  1.2308e-01,\n",
      "         4.7567e-02,  5.2713e-01, -3.1916e-02, -1.2888e-01,  1.2998e-01,\n",
      "         7.7375e-02,  3.7897e-01,  2.4855e-01, -1.7177e-01, -2.2113e-01,\n",
      "         1.3008e-02,  1.9338e-01,  3.2650e-01, -5.2561e-01, -1.4108e-01,\n",
      "         1.0338e-01,  3.0947e-01, -3.6407e-01, -2.3444e-01,  3.7502e-01,\n",
      "        -3.2686e-01, -1.9053e-01,  5.8087e-02,  1.3488e-01,  2.0803e-01,\n",
      "        -9.6843e-02, -2.2937e-01,  1.1079e-01,  2.8437e-01,  5.7315e-02,\n",
      "        -1.3446e-01,  2.7779e-01]), tensor([0, 0, 0, 0, 0, 0, 0, 0, 0, 0, 0, 0, 0, 0, 0, 0, 0, 0, 0, 0, 0, 0, 0, 0,\n",
      "        0, 1, 0, 0, 0, 0, 0, 0, 0, 0, 0, 0, 0, 0, 0, 0, 0, 0, 0, 0, 0, 0, 0, 0,\n",
      "        0]))\n",
      "4\n"
     ]
    }
   ],
   "source": [
    "# 1) inspect the raw Dataset # \n",
    "print(\"Type of ds:\", type(ds))\n",
    "print(\"Number of examples:\", len(ds))\n",
    "\n",
    "# peek at example 0\n",
    "example0 = ds[0]\n",
    "print(\"Example 0:\", example0)\n",
    "# if this is a tuple, you’ll see something like (inputs, targets)\n",
    "\n",
    "print(len(example0)) # 4 tensors "
   ]
  },
  {
   "cell_type": "markdown",
   "id": "de742a88-f4bc-416c-974b-42c27d99f878",
   "metadata": {},
   "source": [
    "## Set up our head model and training params"
   ]
  },
  {
   "cell_type": "code",
   "execution_count": 5,
   "id": "fa9a2e23-7f35-4dc5-8382-3a39a49b97ee",
   "metadata": {},
   "outputs": [],
   "source": [
    "head = nn.Sequential(\n",
    "    nn.Linear(512*2, 256), # Input dimension: 512 for image emb + 512 for text emb\n",
    "    nn.ReLU(),\n",
    "    nn.Dropout(0.5),\n",
    "    nn.Linear(256, num_labels)\n",
    ").to(device)\n",
    "\n",
    "loss_fn = nn.BCEWithLogitsLoss()\n",
    "opt     = AdamW(head.parameters(), lr=3e-3, weight_decay=1e-4)\n",
    "sch     = CosineAnnealingLR(opt, T_max=20)"
   ]
  },
  {
   "cell_type": "code",
   "execution_count": 6,
   "id": "fea91f62-76c0-48a6-b4e2-c2c1e1ef3cb3",
   "metadata": {},
   "outputs": [],
   "source": [
    "def mixup(features, labels, alpha=0.4):\n",
    "    \"\"\"Return mixed features and mixed labels.\"\"\"\n",
    "    batch_size = features.size(0)\n",
    "    # sample mixing coefficient\n",
    "    lam = torch.distributions.Beta(alpha, alpha).sample((batch_size,)).to(features.device)\n",
    "    lam = torch.max(lam, 1-lam)           # ensure lam >= 0.5\n",
    "    lam = lam.view(batch_size, 1)         # shape [B,1]\n",
    "    \n",
    "    # shuffle batch\n",
    "    idx = torch.randperm(batch_size)\n",
    "    f2, y2 = features[idx], labels[idx]\n",
    "    \n",
    "    # mix\n",
    "    mixed_f = lam * features + (1-lam) * f2\n",
    "    mixed_y = lam * labels   + (1-lam) * y2   # soft labels\n",
    "    \n",
    "    return mixed_f, mixed_y"
   ]
  },
  {
   "cell_type": "markdown",
   "id": "f40ee58b-44bf-4fee-96a4-aea4f523ef30",
   "metadata": {},
   "source": [
    "### Run training"
   ]
  },
  {
   "cell_type": "code",
   "execution_count": null,
   "id": "3195dd35-f274-4ffc-ae8f-0dd09a61b0df",
   "metadata": {},
   "outputs": [],
   "source": [
    "best_val = 0.0\n",
    "epochs = 100\n",
    "\n",
    "for epoch in range(epochs):\n",
    "    # train\n",
    "    head.train()\n",
    "    tot = 0\n",
    "    for img_id, img_f, txt_f, y in train_dl:\n",
    "        opt.zero_grad()\n",
    "\n",
    "        # Combine modalities into a single embedding\n",
    "        fused = torch.cat([img_f, txt_f], dim=1)\n",
    "\n",
    "        # If running normally (withouth feature vector MixUp):\n",
    "        #logits = head(x)\n",
    "        #loss = loss_fn(logits, y)\n",
    "\n",
    "        # If running with MixUp:\n",
    "        mixed_f, mixed_y = mixup(fused, y, alpha=0.2)\n",
    "        logits = head(mixed_f)\n",
    "        loss = loss_fn(logits, mixed_y)\n",
    "        \n",
    "        loss.backward()\n",
    "        opt.step()\n",
    "        tot += loss.item() * fused.size(0)\n",
    "    sch.step()\n",
    "\n",
    "    # val‐subset accuracy\n",
    "    head.eval()\n",
    "    correct, total = 0, 0\n",
    "    with torch.no_grad():\n",
    "        for img_id, img_f, txt_f, y in val_dl:\n",
    "            fused = torch.cat([img_f, txt_f], dim=1)\n",
    "            probs = torch.sigmoid(head(fused))\n",
    "            preds = (probs > 0.5)\n",
    "            # subset accuracy: all 49 match?\n",
    "            correct += (preds.eq(y.bool()).all(dim=1).sum().item())\n",
    "            total   += fused.size(0)\n",
    "\n",
    "    train_loss = tot/len(train_idx)\n",
    "    val_acc    = correct/total\n",
    "    print(f\"epoch {epoch:02d}  train_loss {train_loss:.4f}  val_acc {val_acc:.4f}\")\n",
    "\n",
    "    if val_acc > best_val:\n",
    "        best_val = val_acc\n",
    "        torch.save(head.state_dict(), f'interim/clip-fused-mlp-head.pth')\n",
    "\n",
    "print('======\\nBest validation accuracy value:', round(best_val, 4))"
   ]
  },
  {
   "cell_type": "markdown",
   "id": "db36924d-39b4-4e5b-949f-91773c2b3411",
   "metadata": {},
   "source": [
    "# Run inference on Kaggle test set for submission\n",
    "* Same CLIP backbone for embeddings\n",
    "* Same `head` architecture (MLP) but load best value from training"
   ]
  },
  {
   "cell_type": "code",
   "execution_count": 7,
   "id": "bf15dd27-997a-477e-a970-b5e52daf7ce1",
   "metadata": {},
   "outputs": [
    {
     "name": "stderr",
     "output_type": "stream",
     "text": [
      "/var/folders/08/36_394xj1plgkpr172kjs8mr0000gn/T/ipykernel_40875/697694761.py:2: DtypeWarning: Columns (5) have mixed types. Specify dtype option on import or set low_memory=False.\n",
      "  metadata = pd.read_csv('metadata.csv', on_bad_lines='skip')\n"
     ]
    }
   ],
   "source": [
    "test_ids = pd.read_csv('test.csv')\n",
    "metadata = pd.read_csv('metadata.csv', on_bad_lines='skip')\n",
    "test_id2title = (\n",
    "    metadata\n",
    "    .merge(test_ids, on='gridimage_id', how='inner')\n",
    "    .assign(\n",
    "        gridimage_id=lambda df_: df_.gridimage_id.astype(int),\n",
    "        title=lambda df_: df_.title.fillna('')\n",
    "    )\n",
    "    .set_index('gridimage_id')\n",
    "    .title.to_dict()\n",
    ")"
   ]
  },
  {
   "cell_type": "code",
   "execution_count": 8,
   "id": "d611a499-a782-4e42-8ebb-4c1c4f633e9e",
   "metadata": {},
   "outputs": [],
   "source": [
    "# Get tags in the right order\n",
    "tags = pd.read_csv('train.csv', nrows=0).columns[1:]\n",
    "tag2human = pd.read_csv( 'tags-top.csv', index_col='col')['tag'].to_dict()\n",
    "tags_human = [ tag2human[tag] for tag in tags ]"
   ]
  },
  {
   "cell_type": "code",
   "execution_count": 9,
   "id": "a2d1513d-0635-4709-ad2a-ee8e37442532",
   "metadata": {},
   "outputs": [
    {
     "data": {
      "text/plain": [
       "Sequential(\n",
       "  (0): Linear(in_features=1024, out_features=256, bias=True)\n",
       "  (1): ReLU()\n",
       "  (2): Dropout(p=0.5, inplace=False)\n",
       "  (3): Linear(in_features=256, out_features=49, bias=True)\n",
       ")"
      ]
     },
     "execution_count": 9,
     "metadata": {},
     "output_type": "execute_result"
    }
   ],
   "source": [
    "head.load_state_dict(\n",
    "    torch.load(\n",
    "        'interim/clip-fused-mlp-head.pth',\n",
    "        map_location=device\n",
    "    )\n",
    ")\n",
    "\n",
    "head.eval()"
   ]
  },
  {
   "cell_type": "markdown",
   "id": "8bad3c52",
   "metadata": {},
   "source": [
    "### predict Ilya"
   ]
  },
  {
   "cell_type": "code",
   "execution_count": 10,
   "id": "eec33225-62d3-4dc7-9aaa-3149aa44adc0",
   "metadata": {},
   "outputs": [],
   "source": [
    "def predict(i, thresh=0.5, max_pos=3, human=False):\n",
    "    \"\"\"\n",
    "    Load image i, run one forward pass, then pick between 1 and max_pos labels:\n",
    "     - k = clamp(counts>thresh, 1, max_pos)\n",
    "     - take the top‐k probs\n",
    "    \"\"\"\n",
    "    path = Path('test_images') / f'{i//10000:05d}' / f'{i}.jpg'\n",
    "    if not path.exists():\n",
    "        return torch.zeros(49, dtype=torch.int)\n",
    "\n",
    "    # Encode image\n",
    "    img = preprocess(Image.open(path)).unsqueeze(0).to(device)\n",
    "    with torch.no_grad():\n",
    "        feat_img = model.encode_image(img)\n",
    "    feat_img = feat_img.cpu().detach()\n",
    "\n",
    "    # Encode text\n",
    "    txt_tokens = clip.tokenize([test_id2title[i]]).to(device)\n",
    "    with torch.no_grad():\n",
    "        feat_txt = model.encode_text(txt_tokens)\n",
    "    feat_txt = feat_txt.cpu().detach()\n",
    "\n",
    "    with torch.inference_mode():\n",
    "        logits = head(torch.cat([feat_img, feat_txt], dim=1)).squeeze(0)\n",
    "        probs  = torch.sigmoid(logits)\n",
    "\n",
    "        # Limit number of classes to [1, max_pos]\n",
    "        cnt = torch.clamp((probs > thresh).sum(), min=1, max=max_pos).item()\n",
    "        idx = probs.topk(cnt).indices\n",
    "\n",
    "        mask = torch.zeros_like(probs, dtype=torch.int)\n",
    "        mask[idx] = 1\n",
    "\n",
    "    if human:\n",
    "        for i in idx:\n",
    "            print(tags_human[i.item()])\n",
    "        return Image.open(path)\n",
    "\n",
    "    return mask.cpu()"
   ]
  },
  {
   "cell_type": "markdown",
   "id": "795d514b",
   "metadata": {},
   "source": [
    "### new predict"
   ]
  },
  {
   "cell_type": "code",
   "execution_count": null,
   "id": "312fcffa",
   "metadata": {},
   "outputs": [],
   "source": [
    "def predict(i, thresh=0.5, max_pos=3, human=False):\n",
    "    # skip images with no file\n",
    "    path = Path('test_images') / f'{i//10000:05d}' / f'{i}.jpg'\n",
    "    if not path.exists():\n",
    "        return torch.zeros(49, dtype=torch.int)\n",
    "\n",
    "    # skip images with no title\n",
    "    title = test_id2title.get(i)\n",
    "    if title is None:\n",
    "        return torch.zeros(49, dtype=torch.int)\n",
    "\n",
    "    # Encode image\n",
    "    img = preprocess(Image.open(path)).unsqueeze(0).to(device)\n",
    "    with torch.no_grad():\n",
    "        feat_img = model.encode_image(img).cpu()\n",
    "\n",
    "    # Encode text\n",
    "    txt_tokens = clip.tokenize([title]).to(device)\n",
    "    with torch.no_grad():\n",
    "        feat_txt = model.encode_text(txt_tokens).cpu()\n",
    "\n",
    "    # Encode location > experiment with uk pojection system and sphere\n",
    "    loc_tokens = clip.tokenize([f'gridimage_id {i}']).to(device)\n",
    "    with torch.no_grad():\n",
    "        feat_loc = model.encode_text(loc_tokens).cpu()\n",
    "\n",
    "    # Fuse and predict\n",
    "    with torch.inference_mode():\n",
    "        logits = head(torch.cat([feat_img, feat_txt], dim=1).squeeze(0))\n",
    "        probs  = torch.sigmoid(logits)\n",
    "        cnt    = torch.clamp((probs > thresh).sum(), min=1, max=max_pos).item()\n",
    "        idxs   = probs.topk(cnt).indices\n",
    "\n",
    "        mask = torch.zeros_like(probs, dtype=torch.int)\n",
    "        mask[idxs] = 1\n",
    "\n",
    "    if human:\n",
    "        for tag_idx in idxs:\n",
    "            print(tags_human[tag_idx.item()])\n",
    "        return Image.open(path)\n",
    "\n",
    "    return mask\n"
   ]
  },
  {
   "cell_type": "code",
   "execution_count": 19,
   "id": "9698a9ec-f135-4632-9730-0cceb2bf191a",
   "metadata": {},
   "outputs": [
    {
     "name": "stdout",
     "output_type": "stream",
     "text": [
      "Housing, Dwellings\n",
      "Suburb, Urban fringe\n"
     ]
    },
    {
     "data": {
      "image/jpeg": "[encoded data removed]",
      "image/png": "[encoded data removed]",
      "text/plain": [
       "<PIL.JpegImagePlugin.JpegImageFile image mode=RGB size=224x224>"
      ]
     },
     "execution_count": 19,
     "metadata": {},
     "output_type": "execute_result"
    }
   ],
   "source": [
    "# quick test\n",
    "predict(3870074, human=True)\n",
    "# predict(3870074, human=False)"
   ]
  },
  {
   "cell_type": "code",
   "execution_count": 20,
   "id": "0ba45fd9-5acb-43a8-8f67-cf7b605a2c78",
   "metadata": {},
   "outputs": [
    {
     "name": "stdout",
     "output_type": "stream",
     "text": [
      "INFO: Pandarallel will run on 8 workers.\n",
      "INFO: Pandarallel will use standard multiprocessing data transfer (pipe) to transfer data between the main process and workers.\n"
     ]
    }
   ],
   "source": [
    "from pandarallel import pandarallel\n",
    "pandarallel.initialize(progress_bar=True)"
   ]
  },
  {
   "cell_type": "code",
   "execution_count": 21,
   "id": "4184dd85-0267-472b-9d31-57f9e56174f9",
   "metadata": {},
   "outputs": [
    {
     "data": {
      "application/vnd.jupyter.widget-view+json": {
       "model_id": "58239048029643359b9a4b0d00392fdf",
       "version_major": 2,
       "version_minor": 0
      },
      "text/plain": [
       "VBox(children=(HBox(children=(IntProgress(value=0, description='0.00%', max=16937), Label(value='0 / 16937')))…"
      ]
     },
     "metadata": {},
     "output_type": "display_data"
    },
    {
     "name": "stdout",
     "output_type": "stream",
     "text": [
      "CPU times: user 1min 8s, sys: 20.1 s, total: 1min 28s\n",
      "Wall time: 1h 48min 47s\n"
     ]
    }
   ],
   "source": [
    "%%time\n",
    "\n",
    "predictions = test_ids.assign(\n",
    "    tags=lambda df_: df_.gridimage_id.parallel_apply(predict)\n",
    ")"
   ]
  },
  {
   "cell_type": "code",
   "execution_count": 22,
   "id": "83109cf1-9a32-4085-b46e-de0ab8f4a609",
   "metadata": {},
   "outputs": [],
   "source": [
    "predictions_df = pd.DataFrame(\n",
    "    # Convert each tensor to a numpy array and squeeze out the first dimension\n",
    "    np.vstack([tensor.numpy().squeeze() for tensor in predictions.tags])\n",
    ")\n",
    "\n",
    "predictions_df.index = predictions.gridimage_id\n",
    "predictions_df.columns = tags"
   ]
  },
  {
   "cell_type": "code",
   "execution_count": 24,
   "id": "d41a95a1-24a3-4efe-8f46-62d4526f5012",
   "metadata": {},
   "outputs": [],
   "source": [
    "predictions_df.to_csv('submissions/submission3.csv.zip')"
   ]
  },
  {
   "cell_type": "code",
   "execution_count": 25,
   "id": "93f227ae",
   "metadata": {},
   "outputs": [
    {
     "data": {
      "text/plain": [
       "135489"
      ]
     },
     "execution_count": 25,
     "metadata": {},
     "output_type": "execute_result"
    }
   ],
   "source": [
    "len(predictions_df)"
   ]
  },
  {
   "cell_type": "markdown",
   "id": "103433e2",
   "metadata": {},
   "source": [
    "## Location + title"
   ]
  },
  {
   "cell_type": "code",
   "execution_count": null,
   "id": "28f91ad2",
   "metadata": {},
   "outputs": [],
   "source": []
  },
  {
   "cell_type": "markdown",
   "id": "660399fb",
   "metadata": {},
   "source": [
    "## VGGNet"
   ]
  },
  {
   "cell_type": "code",
   "execution_count": null,
   "id": "1633cd24",
   "metadata": {},
   "outputs": [],
   "source": [
    "import torch\n",
    "from torch import nn, optim\n",
    "from torch.utils.data import Dataset, DataLoader, random_split\n",
    "from torchvision import models, transforms"
   ]
  },
  {
   "cell_type": "code",
   "execution_count": null,
   "id": "9b759008",
   "metadata": {},
   "outputs": [],
   "source": [
    "# ── TRAIN/VALIDATE UTILS ─────────────────────────────────────────────────\n",
    "def train_one_epoch(model, loader, opt, crit):\n",
    "    model.train()\n",
    "    total = 0.0\n",
    "    for imgs, tg in tqdm(loader, desc=\"Train\"):\n",
    "        imgs, tg = imgs.to(DEVICE), tg.to(DEVICE)\n",
    "        opt.zero_grad()\n",
    "        out = model(imgs)\n",
    "        loss= crit(out, tg)\n",
    "        loss.backward()\n",
    "        opt.step()\n",
    "        total += loss.item()*imgs.size(0)\n",
    "    return total/len(loader.dataset)\n",
    "\n",
    "def eval_one_epoch(model, loader, crit):\n",
    "    model.eval()\n",
    "    total = 0.0\n",
    "    with torch.no_grad():\n",
    "        for imgs, tg in tqdm(loader, desc=\"Validate\"):\n",
    "            imgs, tg = imgs.to(DEVICE), tg.to(DEVICE)\n",
    "            out = model(imgs)\n",
    "            total += crit(out, tg).item()*imgs.size(0)\n",
    "    return total/len(loader.dataset)"
   ]
  },
  {
   "cell_type": "code",
   "execution_count": null,
   "id": "9cf223a1",
   "metadata": {},
   "outputs": [],
   "source": [
    "DEVICE     = torch.device(\"cuda\" if torch.cuda.is_available() else \"cpu\")\n",
    "OUT_MODEL  = \"efficientnet_b0_multi.pth\"\n",
    "\n",
    "ransform = transforms.Compose([\n",
    "        transforms.Resize(256),\n",
    "        transforms.CenterCrop(224),\n",
    "        transforms.ToTensor(),\n",
    "        transforms.Normalize(\n",
    "            mean=[0.485, 0.456, 0.406],\n",
    "            std= [0.229, 0.224, 0.225]\n",
    "        ),\n",
    "    ])\n",
    "\n",
    "full_ds =\n",
    "tr_ld =\n",
    "va_ld =\n",
    "\n",
    "\n",
    "# build EfficientNet-B0\n",
    "eff = models.efficientnet_b0(pretrained=True)\n",
    "# freeze features\n",
    "for p in eff.features.parameters():\n",
    "    p.requires_grad = False\n",
    "# replace classifier\n",
    "num_labels = len(full_ds.tag_cols)\n",
    "eff.classifier[-1] = nn.Linear(eff.classifier[-1].in_features, num_labels)\n",
    "eff = eff.to(DEVICE)\n",
    "\n",
    "crit = nn.BCEWithLogitsLoss()\n",
    "opt  = optim.Adam(eff.classifier.parameters(), lr=args.lr)\n",
    "\n",
    "best_val = float(\"inf\")\n",
    "for ep in range(1, args.epochs+1):\n",
    "    tr_loss = train_one_epoch(eff, tr_ld, opt, crit)\n",
    "    va_loss = eval_one_epoch(eff, va_ld, crit)\n",
    "    print(f\"Epoch {ep}/{args.epochs}  train={tr_loss:.4f}  val={va_loss:.4f}\")\n",
    "    if va_loss < best_val:\n",
    "        best_val = va_loss\n",
    "        torch.save({\n",
    "            \"model_state\": eff.state_dict(),\n",
    "            \"tag_cols\":    full_ds.tag_cols\n",
    "        }, args.checkpoint)\n",
    "        print(f\"  ✨ Saved checkpoint to {args.checkpoint}\")\n",
    "\n",
    "print(\"Done. best val loss:\", best_val)\n"
   ]
  },
  {
   "cell_type": "markdown",
   "id": "896e546a",
   "metadata": {},
   "source": [
    "## EfficientNet"
   ]
  },
  {
   "cell_type": "code",
   "execution_count": null,
   "id": "b38ae291-ed48-4cc7-b392-b42619791a6d",
   "metadata": {},
   "outputs": [],
   "source": [
    "from torchvision import models, transforms\n",
    "\n",
    "eff = models.efficientnet_b0(pretrained=True)\n"
   ]
  }
 ],
 "metadata": {
  "kernelspec": {
   "display_name": "Python 3 (ipykernel)",
   "language": "python",
   "name": "python3"
  },
  "language_info": {
   "codemirror_mode": {
    "name": "ipython",
    "version": 3
   },
   "file_extension": ".py",
   "mimetype": "text/x-python",
   "name": "python",
   "nbconvert_exporter": "python",
   "pygments_lexer": "ipython3",
   "version": "3.11.5"
  }
 },
 "nbformat": 4,
 "nbformat_minor": 5
}
