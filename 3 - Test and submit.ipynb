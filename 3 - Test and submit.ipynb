{
 "cells": [
  {
   "cell_type": "markdown",
   "id": "104f4600-f15f-4c93-986d-85d785674973",
   "metadata": {},
   "source": [
    "# Run inference on test set and submit to Kaggle"
   ]
  },
  {
   "cell_type": "code",
   "execution_count": 22,
   "id": "154ab5e0-c45b-4139-bb6c-518946cd8542",
   "metadata": {},
   "outputs": [],
   "source": [
    "import pandas as pd\n",
    "import geopandas as gpd\n",
    "import os\n",
    "import torch\n",
    "from torch import nn\n",
    "from torch.utils.data import DataLoader\n",
    "import clip"
   ]
  },
  {
   "cell_type": "code",
   "execution_count": 24,
   "id": "132132d6-51ce-4633-99c6-ee914d3482ea",
   "metadata": {},
   "outputs": [],
   "source": [
    "device = 'cpu'\n",
    "num_labels = 49"
   ]
  },
  {
   "cell_type": "markdown",
   "id": "23b0ac90-7333-4ebe-a43c-62a8ebc14700",
   "metadata": {},
   "source": [
    "## Get test IDs"
   ]
  },
  {
   "cell_type": "code",
   "execution_count": 3,
   "id": "305c25c1-1a3b-411a-953b-71378052a33a",
   "metadata": {},
   "outputs": [],
   "source": [
    "test_ids = pd.read_csv('kaggle_data/test.csv')\n",
    "\n",
    "metadata_cols = ['gridimage_id', 'title', 'grid_reference']\n",
    "metadata = pd.concat([\n",
    "    pd.read_csv('kaggle_data/metadata.csv', on_bad_lines='skip', usecols=metadata_cols),\n",
    "    pd.read_csv('kaggle_data/metadata-extra.csv', on_bad_lines='skip', encoding='latin1', usecols=metadata_cols)\n",
    "])\n",
    "\n",
    "test_id2title = (\n",
    "    metadata\n",
    "    .merge(test_ids, on='gridimage_id', how='inner')\n",
    "    .assign(\n",
    "        gridimage_id=lambda df_: df_.gridimage_id.astype(int),\n",
    "        title=lambda df_: df_.title.fillna('')\n",
    "    )\n",
    "    .set_index('gridimage_id')\n",
    "    .title.to_dict()\n",
    ")"
   ]
  },
  {
   "cell_type": "code",
   "execution_count": 4,
   "id": "07a46f02-137c-4110-916d-363f4e9bd54b",
   "metadata": {},
   "outputs": [],
   "source": [
    "# Get tags in the right order\n",
    "tags = pd.read_csv('kaggle_data/train.csv', nrows=0).columns[1:]\n",
    "tag2human = pd.read_csv( 'kaggle_data/tags-top.csv', index_col='col')['tag'].to_dict()\n",
    "tags_human = [ tag2human[tag] for tag in tags ]"
   ]
  },
  {
   "cell_type": "markdown",
   "id": "fbaf65b9-87ec-415d-831d-d963df8e8680",
   "metadata": {},
   "source": [
    "## Once again, set up the location embedder (same as training)"
   ]
  },
  {
   "cell_type": "code",
   "execution_count": 36,
   "id": "5290657e-913d-4564-8562-58fcdc8d6eb6",
   "metadata": {},
   "outputs": [
    {
     "name": "stderr",
     "output_type": "stream",
     "text": [
      "/var/folders/w6/kmxyhb092_3gsgy99f9_t01r0000gn/T/ipykernel_34364/2641091950.py:10: UserWarning: Geometry is in a geographic CRS. Results from 'centroid' are likely incorrect. Use 'GeoSeries.to_crs()' to re-project geometries to a projected CRS before this operation.\n",
      "\n",
      "  geom_=lambda gdf_: gdf_.geometry.centroid,\n"
     ]
    }
   ],
   "source": [
    "grid2coords = (\n",
    "    gpd.read_file(\n",
    "        'misc/os_bng_grids.gpkg',\n",
    "        layer='1km_grid'\n",
    "    ).rename(\n",
    "        columns={'tile_name': 'grid_reference'}\n",
    "    )\n",
    "    .to_crs(4326)\n",
    "    .assign(\n",
    "        geom_=lambda gdf_: gdf_.geometry.centroid,\n",
    "        lat=lambda gdf_: gdf_.geom_.y,\n",
    "        lon=lambda gdf_: gdf_.geom_.x\n",
    "    )\n",
    "    .set_index('grid_reference')\n",
    "    [['lat', 'lon']].to_dict(orient='index')\n",
    ")\n",
    "\n",
    "img2grid = metadata.set_index('gridimage_id').grid_reference.to_dict()\n",
    "\n",
    "\n",
    "# UK bounds to rescale\n",
    "uk = {\n",
    "    'lat': {'min': 49.9, 'max': 61.9},\n",
    "    'lon': {'min': -8.6, 'max': 2.1}\n",
    "}\n",
    "\n",
    "def get_loc_emb(img_id):\n",
    "    \"\"\"Get rescaled lat/lon values\"\"\"\n",
    "    try:\n",
    "        coords_dict = grid2coords[img2grid[img_id]]\n",
    "        lat, lon = coords_dict['lat'], coords_dict['lon']\n",
    "\n",
    "        lat_norm = (lat - uk['lat']['min']) / (uk['lat']['max'] - uk['lat']['min'])\n",
    "        lon_norm = (lon - uk['lon']['min']) / (uk['lon']['max'] - uk['lon']['min'])\n",
    "    \n",
    "        return torch.tensor([lat_norm, lon_norm], dtype=torch.float32)\n",
    "    except:\n",
    "        return torch.tensor([0, 0], dtype=torch.float32)\n",
    "\n",
    "def add_location(batch):\n",
    "    # img_id, img_f, txt_f, loc_f, y\n",
    "    # batch is a list of items from full_ds[idx], e.g.\n",
    "    #   [(img_id0, img_f0, txt_f0, label0), (img_id1, img_f1, txt_f1, label1), …]\n",
    "    \n",
    "    img_ids, img_fs, txt_fs, loc_fs = [], [], [], []\n",
    "    \n",
    "    for img_id, img_f, txt_f in batch:\n",
    "        img_ids.append(img_id)\n",
    "        img_fs.append(img_f)\n",
    "        txt_fs.append(txt_f)\n",
    "        loc_fs.append(get_loc_emb(img_id))\n",
    "\n",
    "    return (\n",
    "        torch.stack(img_ids),\n",
    "        torch.stack(img_fs),\n",
    "        torch.stack(txt_fs),\n",
    "        torch.stack(loc_fs)\n",
    "    )"
   ]
  },
  {
   "cell_type": "markdown",
   "id": "906745d2-04b7-4b43-a064-55d39db38833",
   "metadata": {},
   "source": [
    "## Load test embeddings"
   ]
  },
  {
   "cell_type": "code",
   "execution_count": 37,
   "id": "50867d77-4185-46ec-ac79-51f9424db7f7",
   "metadata": {},
   "outputs": [],
   "source": [
    "test_ds = torch.load('splits/test_dataset.pt', weights_only=False)"
   ]
  },
  {
   "cell_type": "code",
   "execution_count": 38,
   "id": "62d9a4de-b155-413b-ad40-e6fe741bf402",
   "metadata": {},
   "outputs": [],
   "source": [
    "test_dl = DataLoader(\n",
    "    test_ds,\n",
    "    batch_size=4096, shuffle=False,  num_workers=0,\n",
    "    collate_fn=add_location # Add location embeddings\n",
    ")"
   ]
  },
  {
   "cell_type": "markdown",
   "id": "ba4565e6-6597-4969-8e48-f788b30ebc4d",
   "metadata": {},
   "source": [
    "# Test all heads"
   ]
  },
  {
   "cell_type": "code",
   "execution_count": 39,
   "id": "9bd326e9-ddd5-4d29-b57c-9d61ea7e02e3",
   "metadata": {},
   "outputs": [
    {
     "data": {
      "text/plain": [
       "['linear-img-mixup.pth',\n",
       " 'linear-txt-loc.pth',\n",
       " 'mlp-img-loc.pth',\n",
       " 'mlp-img-txt-loc-mixup.pth',\n",
       " 'linear-txt-mixup.pth',\n",
       " 'linear-img-txt-mixup.pth',\n",
       " 'mlp-txt.pth',\n",
       " 'linear-img-txt-loc.pth',\n",
       " 'mlp-txt-loc.pth',\n",
       " 'mlp-img-txt-mixup.pth',\n",
       " 'mlp-img.pth',\n",
       " 'mlp-img-mixup.pth',\n",
       " 'linear-img-loc.pth',\n",
       " 'mlp-img-txt-loc.pth',\n",
       " 'mlp-txt-mixup.pth',\n",
       " 'mlp-txt-loc-mixup.pth',\n",
       " 'linear-txt-loc-mixup.pth',\n",
       " 'mlp-img-loc-mixup.pth',\n",
       " 'linear-img-txt-loc-mixup.pth',\n",
       " 'mlp-img-txt.pth',\n",
       " 'linear-img-loc-mixup.pth',\n",
       " 'linear-img.pth',\n",
       " 'linear-img-txt.pth',\n",
       " 'linear-txt.pth']"
      ]
     },
     "execution_count": 39,
     "metadata": {},
     "output_type": "execute_result"
    }
   ],
   "source": [
    "head_names = [x for x in os.listdir('./heads') if x.endswith('.pth')]\n",
    "head_names"
   ]
  },
  {
   "cell_type": "code",
   "execution_count": 56,
   "id": "68d89e10-c36d-4e6f-a2ec-f9b6a1c7407b",
   "metadata": {},
   "outputs": [
    {
     "name": "stdout",
     "output_type": "stream",
     "text": [
      "CPU times: user 3min 18s, sys: 57.3 s, total: 4min 16s\n",
      "Wall time: 41.7 s\n"
     ]
    }
   ],
   "source": [
    "%%time\n",
    "\n",
    "for head_name in head_names:\n",
    "\n",
    "    use_img = 'img' in head_name\n",
    "    use_txt = 'txt' in head_name\n",
    "    use_loc = 'loc' in head_name\n",
    "\n",
    "    # Calculate classifier input dimension\n",
    "    input_dim = sum([\n",
    "        512 if use_img else 0,\n",
    "        512 if use_txt else 0,\n",
    "        2 if use_loc else 0\n",
    "    ])\n",
    "\n",
    "    # Set up head architecture\n",
    "    if head_name.split('-')[0] == 'mlp':\n",
    "        head = nn.Sequential(\n",
    "            nn.Linear(input_dim, 256),\n",
    "            nn.ReLU(),\n",
    "            nn.Dropout(0.5),\n",
    "            nn.Linear(256, num_labels)\n",
    "        ).to(device)\n",
    "    elif head_name.split('-')[0] == 'linear':\n",
    "        head = nn.Linear(input_dim, num_labels).to(device)\n",
    "    else:\n",
    "        print(f'Cannot build {head_name}.')\n",
    "\n",
    "    # Load model params\n",
    "    head.load_state_dict(\n",
    "        torch.load(\n",
    "            f'heads/{head_name}',\n",
    "            map_location=device\n",
    "        )\n",
    "    )\n",
    "\n",
    "    head.eval()\n",
    "    all_probs = []\n",
    "    all_ids = []\n",
    "    \n",
    "    with torch.no_grad():\n",
    "        for img_id, img_f, txt_f, loc_f in test_dl:\n",
    "            fused_parts = []\n",
    "            if use_img:\n",
    "                fused_parts.append(img_f)\n",
    "            if use_txt:\n",
    "                fused_parts.append(txt_f)\n",
    "            if use_loc:\n",
    "                fused_parts.append(loc_f)\n",
    "    \n",
    "            fused = torch.cat(fused_parts, dim=1).to(device)\n",
    "    \n",
    "            probs = torch.sigmoid(head(fused))\n",
    "            all_probs.append(probs.cpu())\n",
    "            all_ids.extend(img_id)\n",
    "\n",
    "    all_probs = torch.cat(all_probs)  # shape: [N, num_labels]\n",
    "    preds = (all_probs > 0.5).int() # binarise predictions\n",
    "\n",
    "    # Ensure that we have at least 1 positive tag!\n",
    "    no_positive = preds.sum(dim=1) == 0\n",
    "    max_indices = all_probs.argmax(dim=1)\n",
    "    preds[no_positive, :] = 0\n",
    "    preds[no_positive, max_indices[no_positive]] = 1\n",
    "\n",
    "    submission = pd.DataFrame(\n",
    "        index=[int(x) for x in all_ids],\n",
    "        data=preds,\n",
    "        columns=tags\n",
    "    )\n",
    "    submission.index.name = 'gridimage_id'\n",
    "\n",
    "    submission.to_csv(f'submissions/{head_name.replace(\".pth\", \".csv.zip\")}')"
   ]
  },
  {
   "cell_type": "code",
   "execution_count": 55,
   "id": "6aa1c0f7-3370-435c-8fa7-5e681f4020c8",
   "metadata": {},
   "outputs": [
    {
     "data": {
      "text/plain": [
       "<Axes: >"
      ]
     },
     "execution_count": 55,
     "metadata": {},
     "output_type": "execute_result"
    },
    {
     "data": {
      "image/png": "[encoded data removed]",
      "text/plain": [
       "<Figure size 640x480 with 1 Axes>"
      ]
     },
     "metadata": {},
     "output_type": "display_data"
    }
   ],
   "source": [
    "submission.sum(axis=1).hist()"
   ]
  },
  {
   "cell_type": "code",
   "execution_count": null,
   "id": "29aa8534-116e-464c-a800-4c99c5b834c9",
   "metadata": {},
   "outputs": [],
   "source": []
  }
 ],
 "metadata": {
  "kernelspec": {
   "display_name": "Python 3 (ipykernel)",
   "language": "python",
   "name": "python3"
  },
  "language_info": {
   "codemirror_mode": {
    "name": "ipython",
    "version": 3
   },
   "file_extension": ".py",
   "mimetype": "text/x-python",
   "name": "python",
   "nbconvert_exporter": "python",
   "pygments_lexer": "ipython3",
   "version": "3.11.5"
  }
 },
 "nbformat": 4,
 "nbformat_minor": 5
}
